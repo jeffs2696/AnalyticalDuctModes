{
 "cells": [
  {
   "cell_type": "markdown",
   "id": "6f1c1e82-40c1-424c-bf9a-6388337a81ef",
   "metadata": {},
   "source": [
    "# Bessel Functions\n",
    "\n"
   ]
  },
  {
   "cell_type": "code",
   "execution_count": 11,
   "id": "2b4a15ba-98da-43f0-a98c-13a2be90a7bf",
   "metadata": {},
   "outputs": [
    {
     "ename": "IndentationError",
     "evalue": "unexpected indent (<ipython-input-11-7c58344a268e>, line 10)",
     "output_type": "error",
     "traceback": [
      "\u001b[0;36m  File \u001b[0;32m\"<ipython-input-11-7c58344a268e>\"\u001b[0;36m, line \u001b[0;32m10\u001b[0m\n\u001b[0;31m    J = special.jv(1,x)\u001b[0m\n\u001b[0m    ^\u001b[0m\n\u001b[0;31mIndentationError\u001b[0m\u001b[0;31m:\u001b[0m unexpected indent\n"
     ]
    }
   ],
   "source": [
    "import numpy as np \n",
    "import scipy as scip\n",
    "import matplotlib.pyplot as plt\n",
    "from scipy import special\n",
    "\n",
    "\n",
    "x = np.linspace(0,20,1000)\n",
    "J = np.empty(len(x))\n",
    "J = special.jv(1,x)\n",
    "    plt.plot(x,J)"
   ]
  },
  {
   "cell_type": "code",
   "execution_count": null,
   "id": "174c36db-2132-4730-91ea-e9a03676249a",
   "metadata": {},
   "outputs": [],
   "source": []
  }
 ],
 "metadata": {
  "kernelspec": {
   "display_name": "Python 3",
   "language": "python",
   "name": "python3"
  },
  "language_info": {
   "codemirror_mode": {
    "name": "ipython",
    "version": 3
   },
   "file_extension": ".py",
   "mimetype": "text/x-python",
   "name": "python",
   "nbconvert_exporter": "python",
   "pygments_lexer": "ipython3",
   "version": "3.8.8"
  }
 },
 "nbformat": 4,
 "nbformat_minor": 5
}
