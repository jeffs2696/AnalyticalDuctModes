{
 "cells": [
  {
   "cell_type": "code",
   "execution_count": 1,
   "id": "f05f47db-f37b-4822-8f03-9eee6631bfe6",
   "metadata": {
    "jupyter": {
     "source_hidden": true
    },
    "tags": []
   },
   "outputs": [],
   "source": [
    "import numpy as np\n",
    "import scipy as scip\n",
    "from scipy import special\n",
    "import cmath\n",
    "import matplotlib as mpl\n",
    "import matplotlib.pyplot as plt\n",
    "\n",
    "def set_size(width, fraction=1):\n",
    "    \"\"\"Set figure dimensions to avoid scaling in LaTeX.  \n",
    "    Parameters\n",
    "    ----------\n",
    "    width: float\n",
    "    Document textwidth or columnwidth in pts\n",
    "    fraction: float, optional\n",
    "    Fraction of the width which you wish the figure to occupy \n",
    "\n",
    "    Returns\n",
    "    -------\n",
    "    fig_dim: tuple\n",
    "    Dimensions of figure in inches\n",
    "    \"\"\"\n",
    "    # Width of figure (in pts)\n",
    "    fig_width_pt = width * fraction \n",
    "    # Convert from pt to inches\n",
    "    inches_per_pt = 1 / 72.27 \n",
    "    # Golden ratio to set aesthetic figure height\n",
    "    # https://disq.us/p/2940ij3\n",
    "    golden_ratio = (5**.5 - 1) / 2\n",
    "    # Figure width in inches\n",
    "    fig_width_in = fig_width_pt * inches_per_pt\n",
    "    # Figure height in inches\n",
    "    fig_height_in = fig_width_in * golden_ratio\n",
    "\n",
    "    fig_dim = (fig_width_in, fig_height_in) \n",
    "    return fig_dim"
   ]
  },
  {
   "cell_type": "code",
   "execution_count": 2,
   "id": "f48ee184-b049-4a65-8228-ddac4e03d8ed",
   "metadata": {
    "jupyter": {
     "source_hidden": true
    },
    "tags": []
   },
   "outputs": [],
   "source": [
    "# Plot Settings \n",
    "\n",
    "plt.style.use('seaborn-whitegrid')\n",
    "width = 345\n",
    "\n",
    "tex_fonts = {\n",
    "        # Use LaTeX to write all text\n",
    "        \"text.usetex\": True,\n",
    "        \"font.family\": \"serif\",\n",
    "        # Use 10pt font in plots, to match 10pt font in document\n",
    "        \"axes.labelsize\": 10,\n",
    "        \"font.size\": 10,\n",
    "        # Make the legend/label fonts a little smaller\n",
    "        \"legend.fontsize\": 8,\n",
    "        \"xtick.labelsize\": 8,\n",
    "        \"ytick.labelsize\": 8\n",
    "        }\n",
    "\n",
    "mpl.rcParams.update(tex_fonts) \n"
   ]
  },
  {
   "cell_type": "markdown",
   "id": "03026ed9-8305-4328-8d88-f3c9732b785e",
   "metadata": {},
   "source": [
    "## Analytical Duct Mode Solution for Uniform Flow\n"
   ]
  },
  {
   "cell_type": "code",
   "execution_count": 3,
   "id": "22c9c61e-193f-4020-bf20-a25ad928a02f",
   "metadata": {},
   "outputs": [],
   "source": [
    "# Input Variables \n",
    "M_x     = 0.3\n",
    "k       = -1 \n",
    "\n",
    "# Compute zeros of integer-order Bessel function derivatives Jn'.\n",
    "m_order = 2 #azimuthal mode\n",
    "\n",
    "num_of_zeros = 10 # each zero corresponds to radial modes\n",
    "# the first zero is radial mode 0\n",
    "# the second zero is radial mode 1...\n",
    "\n",
    "x_min   = 0\n",
    "x_max   = 20\n",
    "x_steps = 100\n",
    "x       = np.linspace(x_min,x_max,x_steps)"
   ]
  },
  {
   "cell_type": "code",
   "execution_count": 4,
   "id": "0a0dd5d7-0e63-406e-840c-de88638cc442",
   "metadata": {},
   "outputs": [],
   "source": [
    "# Bessel Function Calculation\n",
    "Jv_p_zero = scip.special.jnp_zeros(n  = m_order, nt = num_of_zeros)\n",
    "Jv        = scip.special.jv( m_order, x)\n"
   ]
  },
  {
   "cell_type": "code",
   "execution_count": 5,
   "id": "7f242e9d-2f12-423c-ab71-5b1112957fd0",
   "metadata": {},
   "outputs": [
    {
     "data": {
      "image/png": "[encoded data removed]",
      "text/plain": [
       "<Figure size 432x288 with 1 Axes>"
      ]
     },
     "metadata": {},
     "output_type": "display_data"
    }
   ],
   "source": [
    "fig = plt.figure(\n",
    "    constrained_layout=False,\n",
    "#    figsize=set_size(width)\n",
    ")\n",
    "\n",
    "plt.plot(x,Jv)\n",
    "plt.plot(Jv_p_zero[0],0,marker='.')\n",
    "plt.plot(Jv_p_zero[1],0,marker='.')\n",
    "plt.ylabel('$$ J_{10}(k_r r)$$')\n",
    "plt.xlabel('$$ k_r r$$')\n",
    "plt.title('Bessel function of the first kind of order ' + str(m_order))\n",
    "\n",
    "plt.annotate('$$\\mu r_H $$',\n",
    "            xy=(Jv_p_zero[0],0), xycoords='data',\n",
    "            xytext=(Jv_p_zero[0] ,0.1), textcoords='data',\n",
    "            arrowprops=dict(\n",
    "                arrowstyle=\"->\",\n",
    "                facecolor = 'black',\n",
    "                 )\n",
    "            )#, horizontalalignment=''\n",
    "plt.annotate('$$\\mu r_T $$',\n",
    "            xy=(Jv_p_zero[1],0), xycoords='data',\n",
    "            xytext=(Jv_p_zero[1] ,0.1), textcoords='data',\n",
    "            arrowprops=dict(\n",
    "                arrowstyle=\"->\",\n",
    "                facecolor = 'black',\n",
    "                 )\n",
    "            )#, horizontalalignment=''\n",
    "plt.savefig(\n",
    "    fname      ='analytical_bessel_function.pdf',\n",
    "    format     ='pdf',\n",
    "    bbox_inches='tight')\n",
    "plt.tight_layout()\n",
    "#         Jv_p_zero[1],0,marker='o')"
   ]
  },
  {
   "cell_type": "code",
   "execution_count": 6,
   "id": "b7b1ce2b-8993-4eff-9252-e7e712b845a7",
   "metadata": {},
   "outputs": [
    {
     "name": "stdout",
     "output_type": "stream",
     "text": [
      "[(0.32967032967032966+3.0072188083623743j), (0.32967032967032966+6.94351791311669j), (0.32967032967032966+10.392906899444693j), (0.32967032967032966+13.76249751269444j), (0.32967032967032966+17.101589954009697j), (0.32967032967032966+20.42555133714811j), (0.32967032967032966+23.740856399914286j), (0.32967032967032966+27.050731609410562j), (0.32967032967032966+30.35697175822134j), (0.32967032967032966+33.660656924560826j)]\n"
     ]
    },
    {
     "data": {
      "text/plain": [
       "<matplotlib.collections.PathCollection at 0x7fdde88b4be0>"
      ]
     },
     "execution_count": 6,
     "metadata": {},
     "output_type": "execute_result"
    },
    {
     "data": {
      "image/png": "[encoded data removed]",
      "text/plain": [
       "<Figure size 432x288 with 1 Axes>"
      ]
     },
     "metadata": {},
     "output_type": "display_data"
    }
   ],
   "source": [
    "k_x = []\n",
    "k_x_real = []\n",
    "k_x_imag = []\n",
    "for i,j in enumerate(Jv_p_zero):\n",
    "    k_x.append(((-M_x*k + cmath.sqrt(k**2 - (1-M_x**2)*Jv_p_zero[i]**2))/(1-M_x**2)))\n",
    "\n",
    "    k_x_real.append(k_x[i].real)\n",
    "    k_x_imag.append(k_x[i].imag)\n",
    "    \n",
    "print(k_x)\n",
    "plt.scatter(k_x_real,k_x_imag)"
   ]
  },
  {
   "cell_type": "code",
   "execution_count": 7,
   "id": "51a608fc-e071-484c-8b5c-b5c861e9b115",
   "metadata": {},
   "outputs": [
    {
     "name": "stderr",
     "output_type": "stream",
     "text": [
      "/home/jeff-severino/anaconda3/lib/python3.8/site-packages/numpy/core/_asarray.py:83: ComplexWarning: Casting complex values to real discards the imaginary part\n",
      "  return array(a, dtype, copy=False, order=order)\n"
     ]
    },
    {
     "data": {
      "text/plain": [
       "[<matplotlib.lines.Line2D at 0x7fdda0a5e580>]"
      ]
     },
     "execution_count": 7,
     "metadata": {},
     "output_type": "execute_result"
    },
    {
     "data": {
      "image/png": "[encoded data removed]",
      "text/plain": [
       "<Figure size 432x288 with 1 Axes>"
      ]
     },
     "metadata": {},
     "output_type": "display_data"
    }
   ],
   "source": [
    "fig = plt.figure(\n",
    "    constrained_layout=False,\n",
    "#    figsize=set_size(width)\n",
    ")\n",
    "i = cmath.sqrt(-1)\n",
    "p = []\n",
    "p_real  = []\n",
    "p_imag  = []\n",
    "for ii in range(len(x)):\n",
    "    p.append( cmath.exp(-i*k_x[0]*x[ii]))\n",
    "    p_real.append( cmath.exp(-i*k_x[9].real*x[ii]))\n",
    "    p_imag.append( cmath.exp(-i*k_x[1].imag*x[ii]))\n",
    "\n",
    "plt.plot(x,p_real[:])"
   ]
  },
  {
   "cell_type": "code",
   "execution_count": null,
   "id": "d5ba1891-23dc-4894-96a8-5bd57153e97c",
   "metadata": {},
   "outputs": [],
   "source": []
  }
 ],
 "metadata": {
  "kernelspec": {
   "display_name": "Python 3",
   "language": "python",
   "name": "python3"
  },
  "language_info": {
   "codemirror_mode": {
    "name": "ipython",
    "version": 3
   },
   "file_extension": ".py",
   "mimetype": "text/x-python",
   "name": "python",
   "nbconvert_exporter": "python",
   "pygments_lexer": "ipython3",
   "version": "3.8.8"
  }
 },
 "nbformat": 4,
 "nbformat_minor": 5
}
